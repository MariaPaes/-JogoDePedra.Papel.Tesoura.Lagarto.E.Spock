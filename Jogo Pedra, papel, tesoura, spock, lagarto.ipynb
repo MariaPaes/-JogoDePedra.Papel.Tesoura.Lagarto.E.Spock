{
 "cells": [
  {
   "cell_type": "code",
   "execution_count": null,
   "metadata": {},
   "outputs": [],
   "source": [
    "class Game:\n",
    "  def __init__(self):\n",
    "    self.player_1 = input(\"What's your name, player 1?\")\n",
    "    self.player_2 = input(\"What's your name, player 2?\")\n",
    "    self.choices()\n",
    "\n",
    "  def choices(self):\n",
    "    possible_choice = {\"spock\", \"tesoura\", \"papel\", \"pedra\", \"lagarto\"}\n",
    "    print(\"\\n--------- Verification of the possible choices --------- \\n\")\n",
    "    for contador in possible_choice:\n",
    "      print(contador, \"\\n\")\n",
    "\n",
    "    move_1 = input(\"\\nWrite the value chosen by player 1: \").lower()\n",
    "    move_2 = input(\"Write the value chosen by player 2: \").lower()\n",
    "    self.verificationOfThePossibleChoices(move_1, possible_choice, move_2)\n",
    "\n",
    "  def verificationOfThePossibleChoices(self, move_1, possible_choice, move_2):\n",
    "    if (move_1 in possible_choice) and (move_2 in possible_choice):\n",
    "      conditions_player1_win = {\n",
    "                  (\"spock\", \"tesoura\"): \"Spock\",\n",
    "                  (\"spock\", \"pedra\"): \"Spock\",\n",
    "                  (\"tesoura\", \"lagarto\"): \"Tesoura\",\n",
    "                  (\"tesoura\", \"papel\"): \"Tesoura\",\n",
    "                  (\"papel\", \"spock\"): \"Papel\",\n",
    "                  (\"papel\", \"pedra\"): \"Papel\",\n",
    "                  (\"pedra\", \"tesoura\"): \"Pedra\",\n",
    "                  (\"pedra\", \"lagarto\"): \"Pedra\",\n",
    "                  (\"lagarto\", \"spock\"): \"Lagarto\",\n",
    "                  (\"lagarto\", \"papel\"): \"Lagarto\",\n",
    "              }\n",
    "\n",
    "      if move_1 == move_2:\n",
    "        print(self.player_1, \" empatou com \", self.player_2)\n",
    "      elif (move_1, move_2) in conditions_player1_win:\n",
    "        print(self.player_1, \"win with the move\", move_1)\n",
    "      else:\n",
    "        print(self.player_2, \" win!\")\n",
    "    else:\n",
    "      print(\"\\nInput invalid!\")\n",
    "\n",
    "programaInicial = Game()\n"
   ]
  }
 ],
 "metadata": {
  "language_info": {
   "name": "python"
  }
 },
 "nbformat": 4,
 "nbformat_minor": 2
}
